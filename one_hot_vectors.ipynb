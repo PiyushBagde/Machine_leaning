{
  "cells": [
    {
      "cell_type": "markdown",
      "metadata": {
        "id": "view-in-github",
        "colab_type": "text"
      },
      "source": [
        "<a href=\"https://colab.research.google.com/github/PiyushBagde/Machine_leaning/blob/main/one_hot_vectors.ipynb\" target=\"_parent\"><img src=\"https://colab.research.google.com/assets/colab-badge.svg\" alt=\"Open In Colab\"/></a>"
      ]
    },
    {
      "cell_type": "markdown",
      "source": [
        "# Exercise: Titanic Dataset - One-Hot Vectors\n",
        "\n",
        "In this unit, we'll build a model to predict who survived the Titanic disaster. We'll practice transforming data between numerical and categorical types, including use of one-hot vectors.\n",
        "\n",
        "## Data prepartion\n",
        "\n",
        "First, we'll open and quickly clean our dataset, like we did in the last unit:\n"
      ],
      "metadata": {
        "id": "vW7SXmpO5J9A"
      }
    },
    {
      "cell_type": "code",
      "source": [
        "import pandas\n",
        "!wget https://raw.githubusercontent.com/MicrosoftDocs/mslearn-introduction-to-machine-learning/main/m0c_logistic_regression.py\n",
        "!wget https://raw.githubusercontent.com/MicrosoftDocs/mslearn-introduction-to-machine-learning/main/Data/titanic.csv\n",
        "\n",
        "# Open our dataset from file\n",
        "dataset = pandas.read_csv(\"titanic.csv\", index_col=False, sep=\",\", header=0)\n",
        "\n",
        "# Fill missing cabin information with 'Unknown'\n",
        "dataset[\"Cabin\"].fillna(\"Unknown\", inplace=True)\n",
        "\n",
        "# Remove rows missing Age information\n",
        "dataset.dropna(subset=[\"Age\"], inplace=True)\n",
        "\n",
        "# Remove the Name, PassengerId, and Ticket fields\n",
        "# This is optional; it makes it easier to read our print-outs\n",
        "dataset.drop([\"PassengerId\", \"Name\", \"Ticket\"], axis=1, inplace=True)\n",
        "\n",
        "dataset.head()\n"
      ],
      "outputs": [
        {
          "output_type": "stream",
          "name": "stdout",
          "text": [
            "--2023-03-26 07:49:48--  https://raw.githubusercontent.com/MicrosoftDocs/mslearn-introduction-to-machine-learning/main/m0c_logistic_regression.py\n",
            "Resolving raw.githubusercontent.com (raw.githubusercontent.com)... 185.199.111.133, 185.199.108.133, 185.199.109.133, ...\n",
            "Connecting to raw.githubusercontent.com (raw.githubusercontent.com)|185.199.111.133|:443... connected.\n",
            "HTTP request sent, awaiting response... 200 OK\n",
            "Length: 827 [text/plain]\n",
            "Saving to: ‘m0c_logistic_regression.py’\n",
            "\n",
            "\r          m0c_logis   0%[                    ]       0  --.-KB/s               \rm0c_logistic_regres 100%[===================>]     827  --.-KB/s    in 0s      \n",
            "\n",
            "2023-03-26 07:49:48 (52.1 MB/s) - ‘m0c_logistic_regression.py’ saved [827/827]\n",
            "\n",
            "--2023-03-26 07:49:48--  https://raw.githubusercontent.com/MicrosoftDocs/mslearn-introduction-to-machine-learning/main/Data/titanic.csv\n",
            "Resolving raw.githubusercontent.com (raw.githubusercontent.com)... 185.199.110.133, 185.199.109.133, 185.199.108.133, ...\n",
            "Connecting to raw.githubusercontent.com (raw.githubusercontent.com)|185.199.110.133|:443... connected.\n",
            "HTTP request sent, awaiting response... 200 OK\n",
            "Length: 61194 (60K) [text/plain]\n",
            "Saving to: ‘titanic.csv’\n",
            "\n",
            "titanic.csv         100%[===================>]  59.76K  --.-KB/s    in 0.01s   \n",
            "\n",
            "2023-03-26 07:49:48 (5.11 MB/s) - ‘titanic.csv’ saved [61194/61194]\n",
            "\n"
          ]
        },
        {
          "output_type": "execute_result",
          "data": {
            "text/plain": [
              "   Survived  Pclass     Sex   Age  SibSp  Parch     Fare    Cabin Embarked\n",
              "0         0       3    male  22.0      1      0   7.2500  Unknown        S\n",
              "1         1       1  female  38.0      1      0  71.2833      C85        C\n",
              "2         1       3  female  26.0      0      0   7.9250  Unknown        S\n",
              "3         1       1  female  35.0      1      0  53.1000     C123        S\n",
              "4         0       3    male  35.0      0      0   8.0500  Unknown        S"
            ],
            "text/html": [
              "\n",
              "  <div id=\"df-2d4e66ac-3134-4a34-b76c-9f82203e69ac\">\n",
              "    <div class=\"colab-df-container\">\n",
              "      <div>\n",
              "<style scoped>\n",
              "    .dataframe tbody tr th:only-of-type {\n",
              "        vertical-align: middle;\n",
              "    }\n",
              "\n",
              "    .dataframe tbody tr th {\n",
              "        vertical-align: top;\n",
              "    }\n",
              "\n",
              "    .dataframe thead th {\n",
              "        text-align: right;\n",
              "    }\n",
              "</style>\n",
              "<table border=\"1\" class=\"dataframe\">\n",
              "  <thead>\n",
              "    <tr style=\"text-align: right;\">\n",
              "      <th></th>\n",
              "      <th>Survived</th>\n",
              "      <th>Pclass</th>\n",
              "      <th>Sex</th>\n",
              "      <th>Age</th>\n",
              "      <th>SibSp</th>\n",
              "      <th>Parch</th>\n",
              "      <th>Fare</th>\n",
              "      <th>Cabin</th>\n",
              "      <th>Embarked</th>\n",
              "    </tr>\n",
              "  </thead>\n",
              "  <tbody>\n",
              "    <tr>\n",
              "      <th>0</th>\n",
              "      <td>0</td>\n",
              "      <td>3</td>\n",
              "      <td>male</td>\n",
              "      <td>22.0</td>\n",
              "      <td>1</td>\n",
              "      <td>0</td>\n",
              "      <td>7.2500</td>\n",
              "      <td>Unknown</td>\n",
              "      <td>S</td>\n",
              "    </tr>\n",
              "    <tr>\n",
              "      <th>1</th>\n",
              "      <td>1</td>\n",
              "      <td>1</td>\n",
              "      <td>female</td>\n",
              "      <td>38.0</td>\n",
              "      <td>1</td>\n",
              "      <td>0</td>\n",
              "      <td>71.2833</td>\n",
              "      <td>C85</td>\n",
              "      <td>C</td>\n",
              "    </tr>\n",
              "    <tr>\n",
              "      <th>2</th>\n",
              "      <td>1</td>\n",
              "      <td>3</td>\n",
              "      <td>female</td>\n",
              "      <td>26.0</td>\n",
              "      <td>0</td>\n",
              "      <td>0</td>\n",
              "      <td>7.9250</td>\n",
              "      <td>Unknown</td>\n",
              "      <td>S</td>\n",
              "    </tr>\n",
              "    <tr>\n",
              "      <th>3</th>\n",
              "      <td>1</td>\n",
              "      <td>1</td>\n",
              "      <td>female</td>\n",
              "      <td>35.0</td>\n",
              "      <td>1</td>\n",
              "      <td>0</td>\n",
              "      <td>53.1000</td>\n",
              "      <td>C123</td>\n",
              "      <td>S</td>\n",
              "    </tr>\n",
              "    <tr>\n",
              "      <th>4</th>\n",
              "      <td>0</td>\n",
              "      <td>3</td>\n",
              "      <td>male</td>\n",
              "      <td>35.0</td>\n",
              "      <td>0</td>\n",
              "      <td>0</td>\n",
              "      <td>8.0500</td>\n",
              "      <td>Unknown</td>\n",
              "      <td>S</td>\n",
              "    </tr>\n",
              "  </tbody>\n",
              "</table>\n",
              "</div>\n",
              "      <button class=\"colab-df-convert\" onclick=\"convertToInteractive('df-2d4e66ac-3134-4a34-b76c-9f82203e69ac')\"\n",
              "              title=\"Convert this dataframe to an interactive table.\"\n",
              "              style=\"display:none;\">\n",
              "        \n",
              "  <svg xmlns=\"http://www.w3.org/2000/svg\" height=\"24px\"viewBox=\"0 0 24 24\"\n",
              "       width=\"24px\">\n",
              "    <path d=\"M0 0h24v24H0V0z\" fill=\"none\"/>\n",
              "    <path d=\"M18.56 5.44l.94 2.06.94-2.06 2.06-.94-2.06-.94-.94-2.06-.94 2.06-2.06.94zm-11 1L8.5 8.5l.94-2.06 2.06-.94-2.06-.94L8.5 2.5l-.94 2.06-2.06.94zm10 10l.94 2.06.94-2.06 2.06-.94-2.06-.94-.94-2.06-.94 2.06-2.06.94z\"/><path d=\"M17.41 7.96l-1.37-1.37c-.4-.4-.92-.59-1.43-.59-.52 0-1.04.2-1.43.59L10.3 9.45l-7.72 7.72c-.78.78-.78 2.05 0 2.83L4 21.41c.39.39.9.59 1.41.59.51 0 1.02-.2 1.41-.59l7.78-7.78 2.81-2.81c.8-.78.8-2.07 0-2.86zM5.41 20L4 18.59l7.72-7.72 1.47 1.35L5.41 20z\"/>\n",
              "  </svg>\n",
              "      </button>\n",
              "      \n",
              "  <style>\n",
              "    .colab-df-container {\n",
              "      display:flex;\n",
              "      flex-wrap:wrap;\n",
              "      gap: 12px;\n",
              "    }\n",
              "\n",
              "    .colab-df-convert {\n",
              "      background-color: #E8F0FE;\n",
              "      border: none;\n",
              "      border-radius: 50%;\n",
              "      cursor: pointer;\n",
              "      display: none;\n",
              "      fill: #1967D2;\n",
              "      height: 32px;\n",
              "      padding: 0 0 0 0;\n",
              "      width: 32px;\n",
              "    }\n",
              "\n",
              "    .colab-df-convert:hover {\n",
              "      background-color: #E2EBFA;\n",
              "      box-shadow: 0px 1px 2px rgba(60, 64, 67, 0.3), 0px 1px 3px 1px rgba(60, 64, 67, 0.15);\n",
              "      fill: #174EA6;\n",
              "    }\n",
              "\n",
              "    [theme=dark] .colab-df-convert {\n",
              "      background-color: #3B4455;\n",
              "      fill: #D2E3FC;\n",
              "    }\n",
              "\n",
              "    [theme=dark] .colab-df-convert:hover {\n",
              "      background-color: #434B5C;\n",
              "      box-shadow: 0px 1px 3px 1px rgba(0, 0, 0, 0.15);\n",
              "      filter: drop-shadow(0px 1px 2px rgba(0, 0, 0, 0.3));\n",
              "      fill: #FFFFFF;\n",
              "    }\n",
              "  </style>\n",
              "\n",
              "      <script>\n",
              "        const buttonEl =\n",
              "          document.querySelector('#df-2d4e66ac-3134-4a34-b76c-9f82203e69ac button.colab-df-convert');\n",
              "        buttonEl.style.display =\n",
              "          google.colab.kernel.accessAllowed ? 'block' : 'none';\n",
              "\n",
              "        async function convertToInteractive(key) {\n",
              "          const element = document.querySelector('#df-2d4e66ac-3134-4a34-b76c-9f82203e69ac');\n",
              "          const dataTable =\n",
              "            await google.colab.kernel.invokeFunction('convertToInteractive',\n",
              "                                                     [key], {});\n",
              "          if (!dataTable) return;\n",
              "\n",
              "          const docLinkHtml = 'Like what you see? Visit the ' +\n",
              "            '<a target=\"_blank\" href=https://colab.research.google.com/notebooks/data_table.ipynb>data table notebook</a>'\n",
              "            + ' to learn more about interactive tables.';\n",
              "          element.innerHTML = '';\n",
              "          dataTable['output_type'] = 'display_data';\n",
              "          await google.colab.output.renderOutput(dataTable, element);\n",
              "          const docLink = document.createElement('div');\n",
              "          docLink.innerHTML = docLinkHtml;\n",
              "          element.appendChild(docLink);\n",
              "        }\n",
              "      </script>\n",
              "    </div>\n",
              "  </div>\n",
              "  "
            ]
          },
          "metadata": {},
          "execution_count": 1
        }
      ],
      "execution_count": 1,
      "metadata": {
        "gather": {
          "logged": 1677538087990
        },
        "colab": {
          "base_uri": "https://localhost:8080/",
          "height": 588
        },
        "id": "H0irO1Ht5J9D",
        "outputId": "4e99a5a9-4593-4004-d6b7-bc94507b35cb"
      }
    },
    {
      "cell_type": "markdown",
      "source": [
        "## About Our Model\n",
        "\n",
        "We'll training a model type known as Logistic Regression, which will predict who survives the Titanic disaster.\n",
        "\n",
        "For this exercise, you don't need to understand logistic regression. We placed the implementation outside this notebook in a method called `train_logistic_regression`. If you're curious, you can read this method in our GitHub repository.\n",
        "\n",
        "`train_logistic_regression`:\n",
        "\n",
        "1. Accepts our data frame and a list of features to include in the model. \n",
        "2. Trains the model.\n",
        "3. Returns a number that states how well the model performs as it predicts passenger survival. **Smaller numbers are better.**\n",
        "\n",
        "## Numerical Only\n",
        "\n",
        "Let's create a model that uses only the numerical features.\n",
        "\n",
        "First, we'll use `Pclass` here as an ordinal feature, rather than a one-hot encoded categorical feature."
      ],
      "metadata": {
        "id": "zV0WryIZ5J9F"
      }
    },
    {
      "cell_type": "code",
      "source": [
        "from m0c_logistic_regression import train_logistic_regression\n",
        "\n",
        "features = [\"Age\", \"Pclass\", \"SibSp\", \"Parch\", \"Fare\"] \n",
        "loss_numerical_only = train_logistic_regression(dataset, features)\n",
        "\n",
        "print(f\"Numerical-Only, Log-Loss (cost): {loss_numerical_only}\")"
      ],
      "outputs": [
        {
          "output_type": "stream",
          "name": "stdout",
          "text": [
            "Numerical-Only, Log-Loss (cost): 0.612168278948346\n"
          ]
        }
      ],
      "execution_count": 2,
      "metadata": {
        "gather": {
          "logged": 1677538996452
        },
        "colab": {
          "base_uri": "https://localhost:8080/",
          "height": 0
        },
        "id": "79lXsnf25J9G",
        "outputId": "077ef15f-0c63-406a-d24e-390e0d3d03d6"
      }
    },
    {
      "cell_type": "markdown",
      "source": [
        "We have our starting point. Let's see if categorical features will improve the model.\n",
        "\n",
        "## Binary Categorical Features\n",
        "\n",
        "Categorical features with only two potential values can be encoded in a single column, as `0` or `1`.\n",
        "\n",
        "We'll convert `Sex` values into `IsFemale` - a `0` for male and `1` for female - and include that in our model."
      ],
      "metadata": {
        "id": "Cf4cmvtV5J9G"
      }
    },
    {
      "cell_type": "code",
      "source": [
        "# Swap male / female with numerical values\n",
        "# We can do this because there are only two categories\n",
        "dataset[\"IsFemale\"] = dataset.Sex.replace({'male':0, 'female':1})\n",
        "\n",
        "# Print out the first few rows of the dataset\n",
        "print(dataset.head())\n",
        "\n",
        "# Run and test the model, also using IsFemale this time\n",
        "features = [\"Age\", \"Pclass\", \"SibSp\", \"Parch\", \"Fare\", \"IsFemale\"] \n",
        "loss_binary_categoricals = train_logistic_regression(dataset, features)\n",
        "\n",
        "print(f\"\\nNumerical + Sex, Log-Loss (cost): {loss_binary_categoricals}\")"
      ],
      "outputs": [
        {
          "output_type": "stream",
          "name": "stdout",
          "text": [
            "   Survived  Pclass     Sex   Age  SibSp  Parch     Fare    Cabin Embarked  \\\n",
            "0         0       3    male  22.0      1      0   7.2500  Unknown        S   \n",
            "1         1       1  female  38.0      1      0  71.2833      C85        C   \n",
            "2         1       3  female  26.0      0      0   7.9250  Unknown        S   \n",
            "3         1       1  female  35.0      1      0  53.1000     C123        S   \n",
            "4         0       3    male  35.0      0      0   8.0500  Unknown        S   \n",
            "\n",
            "   IsFemale  \n",
            "0         0  \n",
            "1         1  \n",
            "2         1  \n",
            "3         1  \n",
            "4         0  \n",
            "\n",
            "Numerical + Sex, Log-Loss (cost): 0.47071447420412404\n"
          ]
        }
      ],
      "execution_count": 3,
      "metadata": {
        "gather": {
          "logged": 1677538422533
        },
        "colab": {
          "base_uri": "https://localhost:8080/",
          "height": 0
        },
        "id": "Yimmrkbj5J9G",
        "outputId": "d0d50a27-9475-4b37-8f77-152b5818f8e4"
      }
    },
    {
      "cell_type": "markdown",
      "source": [
        "Our loss (error) decreased! This model performs better than the previous model.\n",
        "\n",
        "## One-Hot Encoding\n",
        "\n",
        "Ticket class (`Pclass`) is an Ordinal feature. Its potential values (1, 2 & 3) have an order and they have equal spacing. However, this even spacing might be incorrect - in stories about the Titanic, the third-class passengers were treated much worse than those in 1st and 2nd class.\n",
        "\n",
        "Let's convert `Pclass` into a categorical feature using one-hot encoding:"
      ],
      "metadata": {
        "id": "g_3dNT7z5J9H"
      }
    },
    {
      "cell_type": "code",
      "source": [
        "# Get all possible categories for the \"PClass\" column\n",
        "print(f\"Possible values for PClass: {dataset['Pclass'].unique()}\")\n",
        "\n",
        "# Use Pandas to One-Hot encode the PClass category\n",
        "dataset_with_one_hot = pandas.get_dummies(dataset, columns=[\"Pclass\"], drop_first=False)\n",
        "\n",
        "# Add back in the old Pclass column, for learning purposes\n",
        "dataset_with_one_hot[\"Pclass\"] = dataset.Pclass\n",
        "\n",
        "# Print out the first few rows\n",
        "dataset_with_one_hot.head()"
      ],
      "outputs": [
        {
          "output_type": "stream",
          "name": "stdout",
          "text": [
            "Possible values for PClass: [3 1 2]\n"
          ]
        },
        {
          "output_type": "execute_result",
          "data": {
            "text/plain": [
              "   Survived     Sex   Age  SibSp  Parch     Fare    Cabin Embarked  IsFemale  \\\n",
              "0         0    male  22.0      1      0   7.2500  Unknown        S         0   \n",
              "1         1  female  38.0      1      0  71.2833      C85        C         1   \n",
              "2         1  female  26.0      0      0   7.9250  Unknown        S         1   \n",
              "3         1  female  35.0      1      0  53.1000     C123        S         1   \n",
              "4         0    male  35.0      0      0   8.0500  Unknown        S         0   \n",
              "\n",
              "   Pclass_1  Pclass_2  Pclass_3  Pclass  \n",
              "0         0         0         1       3  \n",
              "1         1         0         0       1  \n",
              "2         0         0         1       3  \n",
              "3         1         0         0       1  \n",
              "4         0         0         1       3  "
            ],
            "text/html": [
              "\n",
              "  <div id=\"df-9002542f-c216-4d06-ace6-89c7468d5578\">\n",
              "    <div class=\"colab-df-container\">\n",
              "      <div>\n",
              "<style scoped>\n",
              "    .dataframe tbody tr th:only-of-type {\n",
              "        vertical-align: middle;\n",
              "    }\n",
              "\n",
              "    .dataframe tbody tr th {\n",
              "        vertical-align: top;\n",
              "    }\n",
              "\n",
              "    .dataframe thead th {\n",
              "        text-align: right;\n",
              "    }\n",
              "</style>\n",
              "<table border=\"1\" class=\"dataframe\">\n",
              "  <thead>\n",
              "    <tr style=\"text-align: right;\">\n",
              "      <th></th>\n",
              "      <th>Survived</th>\n",
              "      <th>Sex</th>\n",
              "      <th>Age</th>\n",
              "      <th>SibSp</th>\n",
              "      <th>Parch</th>\n",
              "      <th>Fare</th>\n",
              "      <th>Cabin</th>\n",
              "      <th>Embarked</th>\n",
              "      <th>IsFemale</th>\n",
              "      <th>Pclass_1</th>\n",
              "      <th>Pclass_2</th>\n",
              "      <th>Pclass_3</th>\n",
              "      <th>Pclass</th>\n",
              "    </tr>\n",
              "  </thead>\n",
              "  <tbody>\n",
              "    <tr>\n",
              "      <th>0</th>\n",
              "      <td>0</td>\n",
              "      <td>male</td>\n",
              "      <td>22.0</td>\n",
              "      <td>1</td>\n",
              "      <td>0</td>\n",
              "      <td>7.2500</td>\n",
              "      <td>Unknown</td>\n",
              "      <td>S</td>\n",
              "      <td>0</td>\n",
              "      <td>0</td>\n",
              "      <td>0</td>\n",
              "      <td>1</td>\n",
              "      <td>3</td>\n",
              "    </tr>\n",
              "    <tr>\n",
              "      <th>1</th>\n",
              "      <td>1</td>\n",
              "      <td>female</td>\n",
              "      <td>38.0</td>\n",
              "      <td>1</td>\n",
              "      <td>0</td>\n",
              "      <td>71.2833</td>\n",
              "      <td>C85</td>\n",
              "      <td>C</td>\n",
              "      <td>1</td>\n",
              "      <td>1</td>\n",
              "      <td>0</td>\n",
              "      <td>0</td>\n",
              "      <td>1</td>\n",
              "    </tr>\n",
              "    <tr>\n",
              "      <th>2</th>\n",
              "      <td>1</td>\n",
              "      <td>female</td>\n",
              "      <td>26.0</td>\n",
              "      <td>0</td>\n",
              "      <td>0</td>\n",
              "      <td>7.9250</td>\n",
              "      <td>Unknown</td>\n",
              "      <td>S</td>\n",
              "      <td>1</td>\n",
              "      <td>0</td>\n",
              "      <td>0</td>\n",
              "      <td>1</td>\n",
              "      <td>3</td>\n",
              "    </tr>\n",
              "    <tr>\n",
              "      <th>3</th>\n",
              "      <td>1</td>\n",
              "      <td>female</td>\n",
              "      <td>35.0</td>\n",
              "      <td>1</td>\n",
              "      <td>0</td>\n",
              "      <td>53.1000</td>\n",
              "      <td>C123</td>\n",
              "      <td>S</td>\n",
              "      <td>1</td>\n",
              "      <td>1</td>\n",
              "      <td>0</td>\n",
              "      <td>0</td>\n",
              "      <td>1</td>\n",
              "    </tr>\n",
              "    <tr>\n",
              "      <th>4</th>\n",
              "      <td>0</td>\n",
              "      <td>male</td>\n",
              "      <td>35.0</td>\n",
              "      <td>0</td>\n",
              "      <td>0</td>\n",
              "      <td>8.0500</td>\n",
              "      <td>Unknown</td>\n",
              "      <td>S</td>\n",
              "      <td>0</td>\n",
              "      <td>0</td>\n",
              "      <td>0</td>\n",
              "      <td>1</td>\n",
              "      <td>3</td>\n",
              "    </tr>\n",
              "  </tbody>\n",
              "</table>\n",
              "</div>\n",
              "      <button class=\"colab-df-convert\" onclick=\"convertToInteractive('df-9002542f-c216-4d06-ace6-89c7468d5578')\"\n",
              "              title=\"Convert this dataframe to an interactive table.\"\n",
              "              style=\"display:none;\">\n",
              "        \n",
              "  <svg xmlns=\"http://www.w3.org/2000/svg\" height=\"24px\"viewBox=\"0 0 24 24\"\n",
              "       width=\"24px\">\n",
              "    <path d=\"M0 0h24v24H0V0z\" fill=\"none\"/>\n",
              "    <path d=\"M18.56 5.44l.94 2.06.94-2.06 2.06-.94-2.06-.94-.94-2.06-.94 2.06-2.06.94zm-11 1L8.5 8.5l.94-2.06 2.06-.94-2.06-.94L8.5 2.5l-.94 2.06-2.06.94zm10 10l.94 2.06.94-2.06 2.06-.94-2.06-.94-.94-2.06-.94 2.06-2.06.94z\"/><path d=\"M17.41 7.96l-1.37-1.37c-.4-.4-.92-.59-1.43-.59-.52 0-1.04.2-1.43.59L10.3 9.45l-7.72 7.72c-.78.78-.78 2.05 0 2.83L4 21.41c.39.39.9.59 1.41.59.51 0 1.02-.2 1.41-.59l7.78-7.78 2.81-2.81c.8-.78.8-2.07 0-2.86zM5.41 20L4 18.59l7.72-7.72 1.47 1.35L5.41 20z\"/>\n",
              "  </svg>\n",
              "      </button>\n",
              "      \n",
              "  <style>\n",
              "    .colab-df-container {\n",
              "      display:flex;\n",
              "      flex-wrap:wrap;\n",
              "      gap: 12px;\n",
              "    }\n",
              "\n",
              "    .colab-df-convert {\n",
              "      background-color: #E8F0FE;\n",
              "      border: none;\n",
              "      border-radius: 50%;\n",
              "      cursor: pointer;\n",
              "      display: none;\n",
              "      fill: #1967D2;\n",
              "      height: 32px;\n",
              "      padding: 0 0 0 0;\n",
              "      width: 32px;\n",
              "    }\n",
              "\n",
              "    .colab-df-convert:hover {\n",
              "      background-color: #E2EBFA;\n",
              "      box-shadow: 0px 1px 2px rgba(60, 64, 67, 0.3), 0px 1px 3px 1px rgba(60, 64, 67, 0.15);\n",
              "      fill: #174EA6;\n",
              "    }\n",
              "\n",
              "    [theme=dark] .colab-df-convert {\n",
              "      background-color: #3B4455;\n",
              "      fill: #D2E3FC;\n",
              "    }\n",
              "\n",
              "    [theme=dark] .colab-df-convert:hover {\n",
              "      background-color: #434B5C;\n",
              "      box-shadow: 0px 1px 3px 1px rgba(0, 0, 0, 0.15);\n",
              "      filter: drop-shadow(0px 1px 2px rgba(0, 0, 0, 0.3));\n",
              "      fill: #FFFFFF;\n",
              "    }\n",
              "  </style>\n",
              "\n",
              "      <script>\n",
              "        const buttonEl =\n",
              "          document.querySelector('#df-9002542f-c216-4d06-ace6-89c7468d5578 button.colab-df-convert');\n",
              "        buttonEl.style.display =\n",
              "          google.colab.kernel.accessAllowed ? 'block' : 'none';\n",
              "\n",
              "        async function convertToInteractive(key) {\n",
              "          const element = document.querySelector('#df-9002542f-c216-4d06-ace6-89c7468d5578');\n",
              "          const dataTable =\n",
              "            await google.colab.kernel.invokeFunction('convertToInteractive',\n",
              "                                                     [key], {});\n",
              "          if (!dataTable) return;\n",
              "\n",
              "          const docLinkHtml = 'Like what you see? Visit the ' +\n",
              "            '<a target=\"_blank\" href=https://colab.research.google.com/notebooks/data_table.ipynb>data table notebook</a>'\n",
              "            + ' to learn more about interactive tables.';\n",
              "          element.innerHTML = '';\n",
              "          dataTable['output_type'] = 'display_data';\n",
              "          await google.colab.output.renderOutput(dataTable, element);\n",
              "          const docLink = document.createElement('div');\n",
              "          docLink.innerHTML = docLinkHtml;\n",
              "          element.appendChild(docLink);\n",
              "        }\n",
              "      </script>\n",
              "    </div>\n",
              "  </div>\n",
              "  "
            ]
          },
          "metadata": {},
          "execution_count": 4
        }
      ],
      "execution_count": 4,
      "metadata": {
        "gather": {
          "logged": 1677538566508
        },
        "colab": {
          "base_uri": "https://localhost:8080/",
          "height": 223
        },
        "id": "mM3asj3X5J9H",
        "outputId": "0fbd50e5-4f44-4390-d562-3f9c31795d0e"
      }
    },
    {
      "cell_type": "markdown",
      "source": [
        "Note that `Pclass` converted into three values: `Pclass_1`, `Pclass_2` and `Pclass_3`.\n",
        "\n",
        "Rows with `Pclass` values of 1 have a value in the `Pclass_1` column. We see the same pattern for values of 2 and 3.\n",
        "\n",
        "Now, re-run the model, and treat `Pclass` values as a categorical values, rather than ordinal values."
      ],
      "metadata": {
        "id": "cbVBk_De5J9H"
      }
    },
    {
      "cell_type": "code",
      "source": [
        "# Run and test the model, also using Pclass as a categorical feature this time\n",
        "features = [\"Age\", \"SibSp\", \"Parch\", \"Fare\", \"IsFemale\",\n",
        "            \"Pclass_1\", \"Pclass_2\", \"Pclass_3\"]\n",
        "\n",
        "loss_pclass_categorical = train_logistic_regression(dataset_with_one_hot, features)\n",
        "\n",
        "print(f\"\\nNumerical, Sex, Categorical Pclass, Log-Loss (cost): {loss_pclass_categorical}\")"
      ],
      "outputs": [
        {
          "output_type": "stream",
          "name": "stdout",
          "text": [
            "\n",
            "Numerical, Sex, Categorical Pclass, Log-Loss (cost): 0.47171118251126615\n"
          ]
        }
      ],
      "execution_count": 5,
      "metadata": {
        "gather": {
          "logged": 1677538662588
        },
        "colab": {
          "base_uri": "https://localhost:8080/",
          "height": 0
        },
        "id": "sCsa46E15J9H",
        "outputId": "e9f523b3-4c2d-402b-cf7c-c62b5b6ff941"
      }
    },
    {
      "cell_type": "markdown",
      "source": [
        "This seems to have made things slightly worse!\n",
        "\n",
        "Let's move on.\n",
        "\n",
        "## Including Cabin\n",
        "\n",
        "Recall that many passengers had `Cabin` information. `Cabin` is a categorical feature and should be a good predictor of survival, because people in lower cabins probably had little time to escape during the sinking.\n",
        "\n",
        "Let's encode cabin using one-hot vectors, and include it in a model. This time, there are so many cabins that we won't print them all out. To practice printing them out, feel free to edit the code as practice."
      ],
      "metadata": {
        "id": "MpucId4Y5J9I"
      }
    },
    {
      "cell_type": "code",
      "source": [
        "# Use Pandas to One-Hot encode the Cabin and Pclass categories\n",
        "dataset_with_one_hot = pandas.get_dummies(dataset, columns=[\"Pclass\", \"Cabin\"], drop_first=False)\n",
        "\n",
        "# Find cabin column names\n",
        "cabin_column_names = list(c for c in dataset_with_one_hot.columns if c.startswith(\"Cabin_\"))\n",
        "\n",
        "# Print out how many cabins there were\n",
        "print(len(cabin_column_names), \"cabins found\")\n",
        "\n",
        "# Make a list of features\n",
        "features = [\"Age\", \"SibSp\", \"Parch\", \"Fare\", \"IsFemale\",\n",
        "            \"Pclass_1\", \"Pclass_2\", \"Pclass_3\"] + \\\n",
        "            cabin_column_names\n",
        "\n",
        "# Run the model and print the result\n",
        "loss_cabin_categorical = train_logistic_regression(dataset_with_one_hot, features)\n",
        "\n",
        "print(f\"\\nNumerical, Sex, Categorical Pclass, Cabin, Log-Loss (cost): {loss_cabin_categorical}\")"
      ],
      "outputs": [
        {
          "output_type": "stream",
          "name": "stdout",
          "text": [
            "135 cabins found\n",
            "\n",
            "Numerical, Sex, Categorical Pclass, Cabin, Log-Loss (cost): 0.460030454816552\n"
          ]
        }
      ],
      "execution_count": 6,
      "metadata": {
        "gather": {
          "logged": 1677538735962
        },
        "colab": {
          "base_uri": "https://localhost:8080/",
          "height": 0
        },
        "id": "2La1zWPN5J9I",
        "outputId": "aaa76b18-2385-4c13-fbe2-a4bd51dd032a"
      }
    },
    {
      "cell_type": "markdown",
      "source": [
        "That's our best result so far!\n",
        "\n",
        "## Improving Power\n",
        "\n",
        "Including very large numbers of categorical classes - for example, 135 cabins - is often not the best way to train a model, because the model only has a few examples of each category class to learn from.\n",
        "\n",
        "Sometimes, we can improve models if we simplify features. `Cabin` was probably useful because it indicated which Titanic deck people were probably situated in: those in lower decks would have had their quarters flooded first. \n",
        "\n",
        "It might become simpler to use deck information, instead of categorizing people into Cabins. \n",
        "\n",
        "Let's simplify what we have run, replacing the 135 `Cabin` categories with a simpler `Deck` category that has only 9 values: A - G, T, and U (Unknown)"
      ],
      "metadata": {
        "id": "Q1NfVpnG5J9I"
      }
    },
    {
      "cell_type": "code",
      "source": [
        "# We have cabin names, like A31, G45. The letter refers to the deck that\n",
        "# the cabin was on. Extract just the deck and save it to a column. \n",
        "dataset[\"Deck\"] = [c[0] for c in dataset.Cabin]\n",
        "\n",
        "print(\"Decks: \", sorted(dataset.Deck.unique()))\n",
        "\n",
        "# Create one-hot vectors for:\n",
        "# Pclass - the class of ticket. (This could be treated as ordinal or categorical)\n",
        "# Deck - the deck that the cabin was on\n",
        "dataset_with_one_hot = pandas.get_dummies(dataset, columns=[\"Pclass\", \"Deck\"], drop_first=False)\n",
        "\n",
        "# Find the deck names\n",
        "deck_of_cabin_column_names = list(c for c in dataset_with_one_hot.columns if c.startswith(\"Deck_\"))\n",
        " \n",
        "features = [\"Age\", \"IsFemale\", \"SibSp\", \"Parch\", \"Fare\", \n",
        "            \"Pclass_1\", \"Pclass_2\", \"Pclass_3\",\n",
        "            \"Deck_A\", \"Deck_B\", \"Deck_C\", \"Deck_D\", \n",
        "            \"Deck_E\", \"Deck_F\", \"Deck_G\", \"Deck_U\", \"Deck_T\"]\n",
        "\n",
        "loss_deck = train_logistic_regression(dataset_with_one_hot, features)\n",
        "\n",
        "print(f\"\\nSimplifying Cabin Into Deck, Log-Loss (cost): {loss_deck}\")"
      ],
      "outputs": [
        {
          "output_type": "stream",
          "name": "stdout",
          "text": [
            "Decks:  ['A', 'B', 'C', 'D', 'E', 'F', 'G', 'T', 'U']\n",
            "\n",
            "Simplifying Cabin Into Deck, Log-Loss (cost): 0.45886536352547463\n"
          ]
        }
      ],
      "execution_count": 7,
      "metadata": {
        "gather": {
          "logged": 1677538902120
        },
        "colab": {
          "base_uri": "https://localhost:8080/",
          "height": 0
        },
        "id": "8lYgjCgb5J9I",
        "outputId": "a6f6bd91-68f8-45af-8ac7-d8571764d259"
      }
    },
    {
      "cell_type": "markdown",
      "source": [
        "## Comparing Models\n",
        "\n",
        "Let's compare the `loss` for these models:"
      ],
      "metadata": {
        "id": "h26NVolZ5J9J"
      }
    },
    {
      "cell_type": "code",
      "source": [
        "# Use a dataframe to create a comparison table of metrics\n",
        "# Copy metrics from previous Unit\n",
        "\n",
        "l =[[\"Numeric Features Only\", loss_numerical_only],\n",
        "    [\"Adding Sex as Binary\", loss_binary_categoricals],\n",
        "    [\"Treating Pclass as Categorical\", loss_pclass_categorical],\n",
        "    [\"Using Cabin as Categorical\", loss_cabin_categorical],\n",
        "    [\"Using Deck rather than Cabin\", loss_deck]]\n",
        "\n",
        "pandas.DataFrame(l, columns=[\"Dataset\", \"Log-Loss (Low is better)\"])"
      ],
      "outputs": [
        {
          "output_type": "execute_result",
          "data": {
            "text/plain": [
              "                          Dataset  Log-Loss (Low is better)\n",
              "0           Numeric Features Only                  0.612168\n",
              "1            Adding Sex as Binary                  0.470714\n",
              "2  Treating Pclass as Categorical                  0.471711\n",
              "3      Using Cabin as Categorical                  0.460030\n",
              "4    Using Deck rather than Cabin                  0.458865"
            ],
            "text/html": [
              "\n",
              "  <div id=\"df-94e52cfb-d26d-4eaf-be85-0277d69b917d\">\n",
              "    <div class=\"colab-df-container\">\n",
              "      <div>\n",
              "<style scoped>\n",
              "    .dataframe tbody tr th:only-of-type {\n",
              "        vertical-align: middle;\n",
              "    }\n",
              "\n",
              "    .dataframe tbody tr th {\n",
              "        vertical-align: top;\n",
              "    }\n",
              "\n",
              "    .dataframe thead th {\n",
              "        text-align: right;\n",
              "    }\n",
              "</style>\n",
              "<table border=\"1\" class=\"dataframe\">\n",
              "  <thead>\n",
              "    <tr style=\"text-align: right;\">\n",
              "      <th></th>\n",
              "      <th>Dataset</th>\n",
              "      <th>Log-Loss (Low is better)</th>\n",
              "    </tr>\n",
              "  </thead>\n",
              "  <tbody>\n",
              "    <tr>\n",
              "      <th>0</th>\n",
              "      <td>Numeric Features Only</td>\n",
              "      <td>0.612168</td>\n",
              "    </tr>\n",
              "    <tr>\n",
              "      <th>1</th>\n",
              "      <td>Adding Sex as Binary</td>\n",
              "      <td>0.470714</td>\n",
              "    </tr>\n",
              "    <tr>\n",
              "      <th>2</th>\n",
              "      <td>Treating Pclass as Categorical</td>\n",
              "      <td>0.471711</td>\n",
              "    </tr>\n",
              "    <tr>\n",
              "      <th>3</th>\n",
              "      <td>Using Cabin as Categorical</td>\n",
              "      <td>0.460030</td>\n",
              "    </tr>\n",
              "    <tr>\n",
              "      <th>4</th>\n",
              "      <td>Using Deck rather than Cabin</td>\n",
              "      <td>0.458865</td>\n",
              "    </tr>\n",
              "  </tbody>\n",
              "</table>\n",
              "</div>\n",
              "      <button class=\"colab-df-convert\" onclick=\"convertToInteractive('df-94e52cfb-d26d-4eaf-be85-0277d69b917d')\"\n",
              "              title=\"Convert this dataframe to an interactive table.\"\n",
              "              style=\"display:none;\">\n",
              "        \n",
              "  <svg xmlns=\"http://www.w3.org/2000/svg\" height=\"24px\"viewBox=\"0 0 24 24\"\n",
              "       width=\"24px\">\n",
              "    <path d=\"M0 0h24v24H0V0z\" fill=\"none\"/>\n",
              "    <path d=\"M18.56 5.44l.94 2.06.94-2.06 2.06-.94-2.06-.94-.94-2.06-.94 2.06-2.06.94zm-11 1L8.5 8.5l.94-2.06 2.06-.94-2.06-.94L8.5 2.5l-.94 2.06-2.06.94zm10 10l.94 2.06.94-2.06 2.06-.94-2.06-.94-.94-2.06-.94 2.06-2.06.94z\"/><path d=\"M17.41 7.96l-1.37-1.37c-.4-.4-.92-.59-1.43-.59-.52 0-1.04.2-1.43.59L10.3 9.45l-7.72 7.72c-.78.78-.78 2.05 0 2.83L4 21.41c.39.39.9.59 1.41.59.51 0 1.02-.2 1.41-.59l7.78-7.78 2.81-2.81c.8-.78.8-2.07 0-2.86zM5.41 20L4 18.59l7.72-7.72 1.47 1.35L5.41 20z\"/>\n",
              "  </svg>\n",
              "      </button>\n",
              "      \n",
              "  <style>\n",
              "    .colab-df-container {\n",
              "      display:flex;\n",
              "      flex-wrap:wrap;\n",
              "      gap: 12px;\n",
              "    }\n",
              "\n",
              "    .colab-df-convert {\n",
              "      background-color: #E8F0FE;\n",
              "      border: none;\n",
              "      border-radius: 50%;\n",
              "      cursor: pointer;\n",
              "      display: none;\n",
              "      fill: #1967D2;\n",
              "      height: 32px;\n",
              "      padding: 0 0 0 0;\n",
              "      width: 32px;\n",
              "    }\n",
              "\n",
              "    .colab-df-convert:hover {\n",
              "      background-color: #E2EBFA;\n",
              "      box-shadow: 0px 1px 2px rgba(60, 64, 67, 0.3), 0px 1px 3px 1px rgba(60, 64, 67, 0.15);\n",
              "      fill: #174EA6;\n",
              "    }\n",
              "\n",
              "    [theme=dark] .colab-df-convert {\n",
              "      background-color: #3B4455;\n",
              "      fill: #D2E3FC;\n",
              "    }\n",
              "\n",
              "    [theme=dark] .colab-df-convert:hover {\n",
              "      background-color: #434B5C;\n",
              "      box-shadow: 0px 1px 3px 1px rgba(0, 0, 0, 0.15);\n",
              "      filter: drop-shadow(0px 1px 2px rgba(0, 0, 0, 0.3));\n",
              "      fill: #FFFFFF;\n",
              "    }\n",
              "  </style>\n",
              "\n",
              "      <script>\n",
              "        const buttonEl =\n",
              "          document.querySelector('#df-94e52cfb-d26d-4eaf-be85-0277d69b917d button.colab-df-convert');\n",
              "        buttonEl.style.display =\n",
              "          google.colab.kernel.accessAllowed ? 'block' : 'none';\n",
              "\n",
              "        async function convertToInteractive(key) {\n",
              "          const element = document.querySelector('#df-94e52cfb-d26d-4eaf-be85-0277d69b917d');\n",
              "          const dataTable =\n",
              "            await google.colab.kernel.invokeFunction('convertToInteractive',\n",
              "                                                     [key], {});\n",
              "          if (!dataTable) return;\n",
              "\n",
              "          const docLinkHtml = 'Like what you see? Visit the ' +\n",
              "            '<a target=\"_blank\" href=https://colab.research.google.com/notebooks/data_table.ipynb>data table notebook</a>'\n",
              "            + ' to learn more about interactive tables.';\n",
              "          element.innerHTML = '';\n",
              "          dataTable['output_type'] = 'display_data';\n",
              "          await google.colab.output.renderOutput(dataTable, element);\n",
              "          const docLink = document.createElement('div');\n",
              "          docLink.innerHTML = docLinkHtml;\n",
              "          element.appendChild(docLink);\n",
              "        }\n",
              "      </script>\n",
              "    </div>\n",
              "  </div>\n",
              "  "
            ]
          },
          "metadata": {},
          "execution_count": 8
        }
      ],
      "execution_count": 8,
      "metadata": {
        "gather": {
          "logged": 1677538909633
        },
        "colab": {
          "base_uri": "https://localhost:8080/",
          "height": 206
        },
        "id": "fszBmJ4x5J9J",
        "outputId": "474b7978-8163-49a5-946f-309ae253c255"
      }
    },
    {
      "cell_type": "markdown",
      "source": [
        "We can see that including categorical features can both improve and harm how well a model works. Often, experimentation is the best way to find the best model. \n"
      ],
      "metadata": {
        "id": "W8wpg8OH5J9J"
      }
    }
  ],
  "metadata": {
    "kernel_info": {
      "name": "conda-env-azureml_py38-py"
    },
    "kernelspec": {
      "name": "conda-env-azureml_py38-py",
      "language": "python",
      "display_name": "azureml_py38"
    },
    "language_info": {
      "name": "python",
      "version": "3.8.5",
      "mimetype": "text/x-python",
      "codemirror_mode": {
        "name": "ipython",
        "version": 3
      },
      "pygments_lexer": "ipython3",
      "nbconvert_exporter": "python",
      "file_extension": ".py"
    },
    "microsoft": {
      "host": {
        "AzureML": {
          "notebookHasBeenCompleted": true
        }
      },
      "ms_spell_check": {
        "ms_spell_check_language": "en"
      }
    },
    "nteract": {
      "version": "nteract-front-end@1.0.0"
    },
    "vscode": {
      "interpreter": {
        "hash": "d986dcce87f8efbe64f9555c9767535f3ea76b09442c50f327a793e0b4903fbe"
      }
    },
    "colab": {
      "provenance": [],
      "include_colab_link": true
    }
  },
  "nbformat": 4,
  "nbformat_minor": 0
}