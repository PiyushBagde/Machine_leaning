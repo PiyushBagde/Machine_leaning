{
  "cells": [
    {
      "cell_type": "markdown",
      "metadata": {
        "id": "view-in-github",
        "colab_type": "text"
      },
      "source": [
        "<a href=\"https://colab.research.google.com/github/PiyushBagde/Machine_leaning/blob/main/model_layers.ipynb\" target=\"_parent\"><img src=\"https://colab.research.google.com/assets/colab-badge.svg\" alt=\"Open In Colab\"/></a>"
      ]
    },
    {
      "cell_type": "markdown",
      "source": [
        "# What is a neural network\n",
        "\n",
        "Neural network is a collection of neurons that are connected by layers. Each neuron is a small\n",
        "computing unit that performs simple calculations to collectively solve a problem. They are \n",
        "organized in layers. There are 3 types of layers: input layer, hidden layer and \n",
        "outter layer.  Each layer contains a number of neurons, except for the input layer. Neural networks mimic the way a human brain processes information."
      ],
      "metadata": {
        "id": "qscVPNW7F7Ib"
      }
    },
    {
      "cell_type": "markdown",
      "source": [
        "## Components of a neural network\n",
        "\n",
        "- **Activation function** determines whether a neuron should be activated or not. The computations that happen in a neural network include applying an activation function. If a neuron activates, then it means the input is important.  The are different kinds of activation functions. The choice of which activation function to use depends on what you want the output to be. Another important role of an activation function is to add non-linearity to the model.\n",
        "    - _Binary_ used to set an output node to 1 if function result is positive and 0 if the function result is negative. $f(x)= {\\small \\begin{cases} 0, & \\text{if } x < 0\\\\ 1, & \\text{if } x\\geq 0\\\\ \\end{cases}}$\n",
        "    - _Sigmod_ is used to predict the probability of an output node being between 0 and 1.  $f(x) = {\\large \\frac{1}{1+e^{-x}}} $\n",
        "    - _Tanh_ is used to predict if an output node is between 1 and -1.  Used in classification use cases.  $f(x) = {\\large \\frac{e^{x} - e^{-x}}{e^{x} + e^{-x}}} $\n",
        "    - _ReLU_ used to set the output node to 0 if fuction result is negative and keeps the result value if the result is a positive value.  $f(x)= {\\small \\begin{cases} 0, & \\text{if } x < 0\\\\ x, & \\text{if } x\\geq 0\\\\ \\end{cases}}$\n",
        "- **Weights** influence how well the output of our network will come close to the expected output value. As an input enters the neuron, it gets multiplied by a weight value and the resulting output is either observed, or passed to the next layer in the neural network. Weights for all neurons in a layer are organized into one tensor\n",
        "- **Bias** makes up the difference between the activation function's output and its intended output. A low bias suggest that the network is making more assumptions about the form of the output, whereas a high bias value makes less assumptions about the form of the output. \n",
        "\n",
        "\n",
        "We can say that an output $y$ of a neural network layer with weights $W$ and bias $b$ is computed as summation of the inputs multiply by the weights plus the bias $x = \\sum{(weights * inputs) + bias} $, where $f(x)$ is the activation function."
      ],
      "metadata": {
        "id": "YBRJU-G2F7Ie"
      }
    },
    {
      "cell_type": "markdown",
      "source": [
        "# Build a neural network\n",
        "\n",
        "Neural networks are comprised of layers/modules that perform operations on data. \n",
        "The `torch.nn` namespace provides all the building blocks you need to \n",
        "build your own neural network. Every module in PyTorch subclasses the `nn.Module`. \n",
        "A neural network is a module itself that consists of other modules (layers). This nested structure allows for\n",
        "building and managing complex architectures easily.\n",
        "\n",
        "In the following sections, we'll build a neural network to classify images in the FashionMNIST dataset."
      ],
      "metadata": {
        "id": "sOjqrusWF7If"
      }
    },
    {
      "cell_type": "code",
      "source": [
        "%matplotlib inline\n",
        "import os\n",
        "import torch\n",
        "from torch import nn\n",
        "from torch.utils.data import DataLoader\n",
        "from torchvision import datasets, transforms"
      ],
      "outputs": [],
      "execution_count": 14,
      "metadata": {
        "id": "jWomhu6uF7If"
      }
    },
    {
      "cell_type": "markdown",
      "source": [
        "## Get a hardware device for training\n",
        "\n",
        "We want to be able to train our model on a hardware accelerator like the GPU, if it is available. Let's check to see if \n",
        "`torch.cuda` is available, else we continue to use the CPU."
      ],
      "metadata": {
        "id": "QKzL8bSZF7Ig"
      }
    },
    {
      "cell_type": "code",
      "source": [
        "device = 'cuda' if torch.cuda.is_available() else 'cpu'\n",
        "print('Using {} device'.format(device))"
      ],
      "outputs": [
        {
          "output_type": "stream",
          "name": "stdout",
          "text": [
            "Using cpu device\n"
          ]
        }
      ],
      "execution_count": 15,
      "metadata": {
        "colab": {
          "base_uri": "https://localhost:8080/"
        },
        "id": "LAm14ERJF7Ih",
        "outputId": "a8ac7468-fbbd-4294-955b-ec2a2fb35877"
      }
    },
    {
      "cell_type": "markdown",
      "source": [
        "## Define the class\n",
        "\n",
        "We define our neural network by subclassing `nn.Module`, and \n",
        "initialize the neural network layers in `__init__`. Every `nn.Module` subclass implements\n",
        "the operations on input data in the `forward` method.\n",
        "\n",
        "Our neural network are composed of the following:\n",
        "- The input layer with 28x28 or 784 features/pixels.\n",
        "- The first linear module takes the input 784 features and transforms it to a hidden layer with 512 features\n",
        "- The ReLU activation function will be applied in the transformation\n",
        "- The second linear module take 512 features as input from the first hidden layer and transforms it to the next hidden layer with 512 features\n",
        "- The ReLU activation function will be applied in the transformation\n",
        "- The third linear module take 512 features as input from the second hidden layer and transforms it to the output layer with 10, which is the number of classes\n",
        "- The ReLU activation function will be applied in the transformation"
      ],
      "metadata": {
        "id": "PbKhNIWPF7Ih"
      }
    },
    {
      "cell_type": "code",
      "source": [
        "class NeuralNetwork(nn.Module):\n",
        "    def __init__(self):\n",
        "        super(NeuralNetwork, self).__init__()\n",
        "        self.flatten = nn.Flatten()\n",
        "        self.linear_relu_stack = nn.Sequential(\n",
        "            nn.Linear(28*28, 512),\n",
        "            nn.ReLU(),\n",
        "            nn.Linear(512, 512),\n",
        "            nn.ReLU(),\n",
        "            nn.Linear(512, 10),\n",
        "            nn.ReLU()\n",
        "        )\n",
        "\n",
        "    def forward(self, x):\n",
        "        x = self.flatten(x)\n",
        "        logits = self.linear_relu_stack(x)\n",
        "        return logits"
      ],
      "outputs": [],
      "execution_count": 16,
      "metadata": {
        "id": "8OtPJZOFF7Ih"
      }
    },
    {
      "cell_type": "markdown",
      "source": [
        "We create an instance of `NeuralNetwork`, and move it to the `device`, and print \n",
        "it's structure.\n",
        "\n"
      ],
      "metadata": {
        "id": "0DvJktV8F7Ii"
      }
    },
    {
      "cell_type": "code",
      "source": [
        "model = NeuralNetwork().to(device)\n",
        "print(model)"
      ],
      "outputs": [
        {
          "output_type": "stream",
          "name": "stdout",
          "text": [
            "NeuralNetwork(\n",
            "  (flatten): Flatten(start_dim=1, end_dim=-1)\n",
            "  (linear_relu_stack): Sequential(\n",
            "    (0): Linear(in_features=784, out_features=512, bias=True)\n",
            "    (1): ReLU()\n",
            "    (2): Linear(in_features=512, out_features=512, bias=True)\n",
            "    (3): ReLU()\n",
            "    (4): Linear(in_features=512, out_features=10, bias=True)\n",
            "    (5): ReLU()\n",
            "  )\n",
            ")\n"
          ]
        }
      ],
      "execution_count": 17,
      "metadata": {
        "colab": {
          "base_uri": "https://localhost:8080/"
        },
        "id": "B2Kx2-mnF7Ii",
        "outputId": "1b8c514b-0991-4d20-8fde-fd583bdfff0a"
      }
    },
    {
      "cell_type": "markdown",
      "source": [
        "To use the model, we pass it the input data. This executes the model's `forward`, along with some background operations. However, do not call `model.forward()` directly! Calling the model on the input returns a 10-dimensional tensor with raw predicted values for each class.\n",
        "\n",
        "We get the prediction densities by passing it through an instance of the `nn.Softmax`."
      ],
      "metadata": {
        "id": "e0TwDBQ1F7Ii"
      }
    },
    {
      "cell_type": "code",
      "source": [
        "X = torch.rand(1, 28, 28, device=device)\n",
        "logits = model(X) \n",
        "pred_probab = nn.Softmax(dim=1)(logits)\n",
        "y_pred = pred_probab.argmax(1)\n",
        "print(f\"Predicted class: {y_pred}\")"
      ],
      "outputs": [
        {
          "output_type": "stream",
          "name": "stdout",
          "text": [
            "Predicted class: tensor([8])\n"
          ]
        }
      ],
      "execution_count": 18,
      "metadata": {
        "colab": {
          "base_uri": "https://localhost:8080/"
        },
        "id": "F3bTRRlqF7Ii",
        "outputId": "fa49e12b-05e1-4d80-b10f-9b1d3996c1d6"
      }
    },
    {
      "cell_type": "markdown",
      "source": [
        "## Weight and Bias\n",
        "\n",
        "\n",
        "The `nn.Linear` module randomly initializes the ${weights}$  and ${ bias}$ for each layer and internally stores the values in Tensors."
      ],
      "metadata": {
        "id": "LbG7ivHGF7Ij"
      }
    },
    {
      "cell_type": "code",
      "source": [
        "print(f\"First Linear weights: {model.linear_relu_stack[0].weight} \\n\")\n",
        "\n",
        "print(f\"First Linear weights: {model.linear_relu_stack[0].bias} \\n\")"
      ],
      "outputs": [
        {
          "output_type": "stream",
          "name": "stdout",
          "text": [
            "First Linear weights: Parameter containing:\n",
            "tensor([[-0.0121, -0.0298,  0.0218,  ..., -0.0169, -0.0317,  0.0064],\n",
            "        [ 0.0149,  0.0083,  0.0300,  ..., -0.0331, -0.0249,  0.0072],\n",
            "        [-0.0116, -0.0126,  0.0085,  ..., -0.0237, -0.0023,  0.0263],\n",
            "        ...,\n",
            "        [ 0.0301,  0.0277, -0.0087,  ...,  0.0162, -0.0138,  0.0174],\n",
            "        [-0.0136, -0.0054,  0.0064,  ..., -0.0039, -0.0080,  0.0174],\n",
            "        [ 0.0122, -0.0035, -0.0330,  ..., -0.0002,  0.0119,  0.0101]],\n",
            "       requires_grad=True) \n",
            "\n",
            "First Linear weights: Parameter containing:\n",
            "tensor([ 0.0161,  0.0065,  0.0148, -0.0052,  0.0192,  0.0180,  0.0117,  0.0089,\n",
            "        -0.0121,  0.0168, -0.0054,  0.0274, -0.0109,  0.0157,  0.0140, -0.0108,\n",
            "         0.0031, -0.0238, -0.0202, -0.0096, -0.0347,  0.0347,  0.0002,  0.0044,\n",
            "         0.0108, -0.0013, -0.0159,  0.0083, -0.0290, -0.0169, -0.0290,  0.0341,\n",
            "         0.0098,  0.0341,  0.0074, -0.0030,  0.0060, -0.0063,  0.0128, -0.0326,\n",
            "        -0.0318,  0.0339, -0.0071,  0.0350, -0.0064,  0.0333, -0.0230,  0.0017,\n",
            "        -0.0130,  0.0147, -0.0085,  0.0270,  0.0097, -0.0129, -0.0229, -0.0272,\n",
            "        -0.0010,  0.0026, -0.0131,  0.0325, -0.0178,  0.0138,  0.0062,  0.0126,\n",
            "         0.0047,  0.0081, -0.0093,  0.0178,  0.0022, -0.0298,  0.0005,  0.0118,\n",
            "        -0.0320, -0.0115, -0.0007, -0.0034,  0.0334, -0.0140,  0.0269,  0.0173,\n",
            "        -0.0050, -0.0184,  0.0266, -0.0186, -0.0170, -0.0162,  0.0322, -0.0027,\n",
            "        -0.0311,  0.0092, -0.0315, -0.0334,  0.0270,  0.0285,  0.0100, -0.0310,\n",
            "        -0.0306,  0.0108, -0.0115,  0.0135, -0.0202, -0.0321, -0.0315, -0.0347,\n",
            "         0.0210,  0.0270,  0.0155, -0.0292, -0.0049, -0.0221,  0.0125,  0.0207,\n",
            "         0.0102,  0.0210,  0.0222,  0.0314,  0.0230, -0.0033, -0.0316,  0.0179,\n",
            "         0.0022, -0.0342, -0.0301,  0.0312,  0.0012,  0.0222, -0.0262, -0.0355,\n",
            "         0.0002,  0.0253, -0.0196,  0.0123,  0.0281,  0.0044,  0.0223,  0.0188,\n",
            "        -0.0114, -0.0123,  0.0314,  0.0080, -0.0253, -0.0177, -0.0002, -0.0110,\n",
            "        -0.0078,  0.0166, -0.0205, -0.0316, -0.0288,  0.0191,  0.0295, -0.0070,\n",
            "        -0.0183, -0.0049,  0.0215,  0.0159, -0.0313,  0.0289,  0.0241,  0.0325,\n",
            "        -0.0124, -0.0141, -0.0298, -0.0175, -0.0275, -0.0160, -0.0260, -0.0321,\n",
            "         0.0005,  0.0145,  0.0226,  0.0094,  0.0169, -0.0061,  0.0146, -0.0249,\n",
            "        -0.0077,  0.0109, -0.0019,  0.0305, -0.0230,  0.0144,  0.0005,  0.0178,\n",
            "        -0.0060,  0.0202,  0.0072, -0.0203, -0.0118,  0.0128, -0.0036,  0.0222,\n",
            "         0.0086, -0.0251,  0.0005,  0.0130, -0.0185, -0.0126,  0.0131,  0.0269,\n",
            "        -0.0223,  0.0269,  0.0031,  0.0320, -0.0004,  0.0116, -0.0254, -0.0336,\n",
            "         0.0214, -0.0276,  0.0066, -0.0136, -0.0353, -0.0130, -0.0338,  0.0209,\n",
            "        -0.0213, -0.0041,  0.0166, -0.0276,  0.0298, -0.0115,  0.0186, -0.0356,\n",
            "        -0.0093, -0.0277, -0.0114,  0.0094,  0.0175, -0.0015,  0.0110, -0.0088,\n",
            "         0.0252, -0.0279,  0.0166, -0.0094, -0.0173, -0.0070, -0.0292, -0.0013,\n",
            "        -0.0112,  0.0218, -0.0292, -0.0266, -0.0170, -0.0232,  0.0230,  0.0342,\n",
            "        -0.0302, -0.0266,  0.0031, -0.0356, -0.0323,  0.0273,  0.0224,  0.0229,\n",
            "        -0.0115,  0.0242, -0.0298,  0.0215,  0.0180,  0.0079, -0.0278, -0.0274,\n",
            "        -0.0346,  0.0108,  0.0189, -0.0330,  0.0273, -0.0148, -0.0168, -0.0296,\n",
            "        -0.0079,  0.0070, -0.0038,  0.0279,  0.0291,  0.0230,  0.0107,  0.0345,\n",
            "        -0.0298,  0.0256,  0.0338,  0.0355, -0.0020, -0.0247,  0.0092,  0.0012,\n",
            "        -0.0016,  0.0034,  0.0120,  0.0243,  0.0197, -0.0138,  0.0277,  0.0342,\n",
            "        -0.0054,  0.0117,  0.0004, -0.0303, -0.0304,  0.0104, -0.0314, -0.0010,\n",
            "         0.0292,  0.0252,  0.0350,  0.0252, -0.0159,  0.0340, -0.0188, -0.0293,\n",
            "        -0.0063, -0.0294, -0.0156, -0.0154, -0.0170, -0.0330,  0.0183,  0.0029,\n",
            "         0.0181,  0.0086, -0.0274, -0.0157,  0.0253,  0.0198,  0.0231,  0.0224,\n",
            "        -0.0242, -0.0015, -0.0151,  0.0328, -0.0071,  0.0145, -0.0237,  0.0269,\n",
            "         0.0031, -0.0136, -0.0318,  0.0318,  0.0160,  0.0009, -0.0258,  0.0058,\n",
            "         0.0140, -0.0160,  0.0296, -0.0017, -0.0004,  0.0002,  0.0018, -0.0096,\n",
            "         0.0038, -0.0047,  0.0262, -0.0305,  0.0243, -0.0107,  0.0349,  0.0101,\n",
            "         0.0325, -0.0293,  0.0064,  0.0121, -0.0050, -0.0105,  0.0138, -0.0288,\n",
            "        -0.0226,  0.0002,  0.0219, -0.0182,  0.0251,  0.0355,  0.0061,  0.0108,\n",
            "         0.0086,  0.0261, -0.0214,  0.0014,  0.0170,  0.0341,  0.0080, -0.0286,\n",
            "         0.0318,  0.0056,  0.0027,  0.0341,  0.0195,  0.0120,  0.0219, -0.0243,\n",
            "        -0.0178, -0.0124,  0.0058,  0.0190, -0.0048,  0.0310,  0.0228, -0.0126,\n",
            "        -0.0146, -0.0020, -0.0031, -0.0292,  0.0278, -0.0088,  0.0292, -0.0119,\n",
            "        -0.0288,  0.0257,  0.0168, -0.0203, -0.0173, -0.0288,  0.0259, -0.0021,\n",
            "        -0.0153, -0.0184,  0.0320,  0.0343,  0.0283,  0.0184, -0.0015, -0.0167,\n",
            "         0.0281, -0.0119,  0.0016,  0.0207,  0.0103, -0.0264, -0.0323, -0.0040,\n",
            "         0.0143, -0.0081,  0.0324, -0.0258,  0.0003, -0.0291,  0.0331,  0.0036,\n",
            "         0.0160, -0.0268,  0.0137,  0.0247,  0.0312, -0.0128, -0.0094, -0.0139,\n",
            "         0.0334,  0.0004,  0.0349, -0.0224,  0.0138, -0.0155,  0.0260,  0.0252,\n",
            "        -0.0149, -0.0029,  0.0169, -0.0019, -0.0106, -0.0238,  0.0191, -0.0139,\n",
            "        -0.0115, -0.0063,  0.0046, -0.0299, -0.0060,  0.0025,  0.0182,  0.0303,\n",
            "         0.0329,  0.0353,  0.0012, -0.0088, -0.0169, -0.0134, -0.0103, -0.0039,\n",
            "         0.0349, -0.0016, -0.0180, -0.0312, -0.0151,  0.0012,  0.0256,  0.0160,\n",
            "        -0.0071,  0.0276, -0.0103, -0.0084, -0.0265,  0.0041, -0.0341, -0.0313,\n",
            "        -0.0203, -0.0072,  0.0191,  0.0129, -0.0098,  0.0282,  0.0208, -0.0195,\n",
            "         0.0113, -0.0012,  0.0006, -0.0184, -0.0273,  0.0355, -0.0165,  0.0275],\n",
            "       requires_grad=True) \n",
            "\n"
          ]
        }
      ],
      "execution_count": 19,
      "metadata": {
        "colab": {
          "base_uri": "https://localhost:8080/"
        },
        "id": "yNOntt11F7Ij",
        "outputId": "2e0194f0-e304-4f84-bc79-9b91cac93ca7"
      }
    },
    {
      "cell_type": "markdown",
      "source": [
        "## Model layers\n",
        "\n",
        "Let's break down the layers in the FashionMNIST model. To illustrate it, we \n",
        "will take a sample minibatch of 3 images of size **28x28** and see what happens to it as \n",
        "we pass it through the network. "
      ],
      "metadata": {
        "id": "b0aoT_QcF7Ij"
      }
    },
    {
      "cell_type": "code",
      "source": [
        "input_image = torch.rand(3,28,28)\n",
        "print(input_image.size())"
      ],
      "outputs": [
        {
          "output_type": "stream",
          "name": "stdout",
          "text": [
            "torch.Size([3, 28, 28])\n"
          ]
        }
      ],
      "execution_count": 20,
      "metadata": {
        "colab": {
          "base_uri": "https://localhost:8080/"
        },
        "id": "TAcoGHSuF7Ij",
        "outputId": "1a68dd31-021c-4526-fce6-56b748e81164"
      }
    },
    {
      "cell_type": "markdown",
      "source": [
        "### nn.Flatten\n",
        "\n",
        "We initialize the `nn.Flatten` layer to convert each 2D 28x28 image into a contiguous array of 784 pixel values (the minibatch dimension (at dim=0) is maintained). Each of the pixels are pass to the input layer of the neural network.  \n",
        "\n",
        "<img alt=\"Diagram showing how pixels in image are flatten\" src=\"images/4-model-3.png\" />"
      ],
      "metadata": {
        "id": "FbAyp_XOF7Ij"
      }
    },
    {
      "cell_type": "code",
      "source": [
        "flatten = nn.Flatten()\n",
        "flat_image = flatten(input_image)\n",
        "print(flat_image.size())"
      ],
      "outputs": [
        {
          "output_type": "stream",
          "name": "stdout",
          "text": [
            "torch.Size([3, 784])\n"
          ]
        }
      ],
      "execution_count": 21,
      "metadata": {
        "colab": {
          "base_uri": "https://localhost:8080/"
        },
        "id": "scZer9l_F7Ik",
        "outputId": "8643b424-665f-473f-d934-a31d5fee1f62"
      }
    },
    {
      "cell_type": "markdown",
      "source": [
        "### nn.Linear \n",
        "\n",
        "The linear layer is a module that applies a linear transformation on the input using it's stored weights and biases.  The gayscale value of each pixel in the input layer will be connected to neurons in the hidden layer for calculation.    The calculation used for the transformation is ${{weight * input + bias}} $.\n"
      ],
      "metadata": {
        "id": "p2-b2wGOF7Ik"
      }
    },
    {
      "cell_type": "code",
      "source": [
        "layer1 = nn.Linear(in_features=28*28, out_features=20)\n",
        "hidden1 = layer1(flat_image)\n",
        "print(hidden1.size())"
      ],
      "outputs": [
        {
          "output_type": "stream",
          "name": "stdout",
          "text": [
            "torch.Size([3, 20])\n"
          ]
        }
      ],
      "execution_count": 22,
      "metadata": {
        "colab": {
          "base_uri": "https://localhost:8080/"
        },
        "id": "hS2gyUQ_F7Ik",
        "outputId": "3eed1e6f-bac0-4cc3-d625-fd246d954343"
      }
    },
    {
      "cell_type": "markdown",
      "source": [
        "### nn.ReLU\n",
        "\n",
        "Non-linear activations are what create the complex mappings between the model's inputs and outputs.\n",
        "They are applied after linear transformations to introduce *nonlinearity*, helping neural networks\n",
        "learn a wide variety of phenomena. In this model, we use `nn.ReLU` between our linear layers, but there's other activations to introduce non-linearity in your model.\n",
        "\n",
        "The ReLU activation function takes the output from the linear layer calculation and replaces the negative values with zeros.\n",
        "\n",
        "Linear output: ${ x = {weight * input + bias}} $.  \n",
        "ReLU:  $f(x)= \n",
        "\\begin{cases}\n",
        "    0, & \\text{if } x < 0\\\\\n",
        "    x, & \\text{if } x\\geq 0\\\\\n",
        "\\end{cases}\n",
        "$"
      ],
      "metadata": {
        "id": "PY2tnLpMF7Ik"
      }
    },
    {
      "cell_type": "code",
      "source": [
        "print(f\"Before ReLU: {hidden1}\\n\\n\")\n",
        "hidden1 = nn.ReLU()(hidden1)\n",
        "print(f\"After ReLU: {hidden1}\")"
      ],
      "outputs": [
        {
          "output_type": "stream",
          "name": "stdout",
          "text": [
            "Before ReLU: tensor([[ 0.2728,  0.1365,  0.1691,  0.1504, -0.0809,  0.1793,  0.7223,  0.2240,\n",
            "         -0.3189, -0.0502, -0.3326,  0.7176, -0.2210, -0.1273,  0.2222,  0.3928,\n",
            "         -0.2112,  0.5861, -0.0075,  0.0975],\n",
            "        [-0.1383, -0.0192, -0.1261,  0.1860, -0.2191,  0.4126,  1.0057,  0.0966,\n",
            "         -0.3945,  0.0652, -0.0554,  0.3782, -0.0879, -0.0733, -0.0440,  0.1852,\n",
            "         -0.5722,  0.5768, -0.0781, -0.3417],\n",
            "        [ 0.0217,  0.0870, -0.1831,  0.0985, -0.0598,  0.5117,  0.5403,  0.0716,\n",
            "         -0.3256, -0.1215,  0.0757,  0.5437, -0.2189,  0.1238, -0.0863,  0.4192,\n",
            "         -0.3904,  0.7827, -0.0142,  0.0405]], grad_fn=<AddmmBackward0>)\n",
            "\n",
            "\n",
            "After ReLU: tensor([[0.2728, 0.1365, 0.1691, 0.1504, 0.0000, 0.1793, 0.7223, 0.2240, 0.0000,\n",
            "         0.0000, 0.0000, 0.7176, 0.0000, 0.0000, 0.2222, 0.3928, 0.0000, 0.5861,\n",
            "         0.0000, 0.0975],\n",
            "        [0.0000, 0.0000, 0.0000, 0.1860, 0.0000, 0.4126, 1.0057, 0.0966, 0.0000,\n",
            "         0.0652, 0.0000, 0.3782, 0.0000, 0.0000, 0.0000, 0.1852, 0.0000, 0.5768,\n",
            "         0.0000, 0.0000],\n",
            "        [0.0217, 0.0870, 0.0000, 0.0985, 0.0000, 0.5117, 0.5403, 0.0716, 0.0000,\n",
            "         0.0000, 0.0757, 0.5437, 0.0000, 0.1238, 0.0000, 0.4192, 0.0000, 0.7827,\n",
            "         0.0000, 0.0405]], grad_fn=<ReluBackward0>)\n"
          ]
        }
      ],
      "execution_count": 23,
      "metadata": {
        "scrolled": true,
        "colab": {
          "base_uri": "https://localhost:8080/"
        },
        "id": "Ti7vJB-GF7Ik",
        "outputId": "bd1eb0a4-382f-46cd-9dd7-2d670e422921"
      }
    },
    {
      "cell_type": "markdown",
      "source": [
        "### nn.Sequential\n",
        "\n",
        "`nn.Sequential` is an ordered \n",
        "container of modules. The data is passed through all the modules in the same order as defined. You can use\n",
        "sequential containers to put together a quick network like `seq_modules`."
      ],
      "metadata": {
        "id": "8dPYrd61F7Il"
      }
    },
    {
      "cell_type": "code",
      "source": [
        "seq_modules = nn.Sequential(\n",
        "    flatten,\n",
        "    layer1,\n",
        "    nn.ReLU(),\n",
        "    nn.Linear(20, 10)\n",
        ")\n",
        "input_image = torch.rand(3,28,28)\n",
        "logits = seq_modules(input_image)"
      ],
      "outputs": [],
      "execution_count": 24,
      "metadata": {
        "id": "JGnIqQ4MF7Il"
      }
    },
    {
      "cell_type": "markdown",
      "source": [
        "### nn.Softmax\n",
        "\n",
        "The last linear layer of the neural network returns `logits` - raw values in \\[`-infty`, `infty`], which are passed to the\n",
        "`nn.Softmax` module. The Softmax activation function is used to calculate the probability of the output from the neural network.  It is only used on the output layer of a neural network.  The results are scaled to values \\[0, 1\\] representing the model's predicted densities for each class. `dim` parameter indicates the dimension along which the result values must sum to 1.  The node with the highest probability predicts the desired output.\n",
        "\n",
        "<img alt=\"Diagram shows softmax formula\" src=\"images/4-model-4.png\" />"
      ],
      "metadata": {
        "id": "DyYmNK_MF7Il"
      }
    },
    {
      "cell_type": "code",
      "source": [
        "softmax = nn.Softmax(dim=1)\n",
        "pred_probab = softmax(logits)"
      ],
      "outputs": [],
      "execution_count": 25,
      "metadata": {
        "id": "3DuxGE6bF7Il"
      }
    },
    {
      "cell_type": "markdown",
      "source": [
        "## Model parameters\n",
        "\n",
        "Many layers inside a neural network are *parameterized*, i.e. have associated weights \n",
        "and biases that are optimized during training. Subclassing `nn.Module` automatically \n",
        "tracks all fields defined inside your model object, and makes all parameters \n",
        "accessible using your model's `parameters()` or `named_parameters()` methods.\n",
        "\n",
        "In this example, we iterate over each parameter, and print its size and a preview of its values.\n"
      ],
      "metadata": {
        "id": "Ai57_PmWF7Il"
      }
    },
    {
      "cell_type": "code",
      "source": [
        "print(\"Model structure: \", model, \"\\n\\n\")\n",
        "\n",
        "for name, param in model.named_parameters():\n",
        "    print(f\"Layer: {name} | Size: {param.size()} | Values : {param[:2]} \\n\")"
      ],
      "outputs": [
        {
          "output_type": "stream",
          "name": "stdout",
          "text": [
            "Model structure:  NeuralNetwork(\n",
            "  (flatten): Flatten(start_dim=1, end_dim=-1)\n",
            "  (linear_relu_stack): Sequential(\n",
            "    (0): Linear(in_features=784, out_features=512, bias=True)\n",
            "    (1): ReLU()\n",
            "    (2): Linear(in_features=512, out_features=512, bias=True)\n",
            "    (3): ReLU()\n",
            "    (4): Linear(in_features=512, out_features=10, bias=True)\n",
            "    (5): ReLU()\n",
            "  )\n",
            ") \n",
            "\n",
            "\n",
            "Layer: linear_relu_stack.0.weight | Size: torch.Size([512, 784]) | Values : tensor([[-0.0121, -0.0298,  0.0218,  ..., -0.0169, -0.0317,  0.0064],\n",
            "        [ 0.0149,  0.0083,  0.0300,  ..., -0.0331, -0.0249,  0.0072]],\n",
            "       grad_fn=<SliceBackward0>) \n",
            "\n",
            "Layer: linear_relu_stack.0.bias | Size: torch.Size([512]) | Values : tensor([0.0161, 0.0065], grad_fn=<SliceBackward0>) \n",
            "\n",
            "Layer: linear_relu_stack.2.weight | Size: torch.Size([512, 512]) | Values : tensor([[ 0.0155, -0.0215, -0.0336,  ...,  0.0432, -0.0327, -0.0408],\n",
            "        [-0.0060, -0.0288,  0.0289,  ...,  0.0194, -0.0376,  0.0360]],\n",
            "       grad_fn=<SliceBackward0>) \n",
            "\n",
            "Layer: linear_relu_stack.2.bias | Size: torch.Size([512]) | Values : tensor([0.0124, 0.0284], grad_fn=<SliceBackward0>) \n",
            "\n",
            "Layer: linear_relu_stack.4.weight | Size: torch.Size([10, 512]) | Values : tensor([[ 0.0190, -0.0005, -0.0241,  ..., -0.0247, -0.0293,  0.0138],\n",
            "        [-0.0001,  0.0309, -0.0215,  ...,  0.0196,  0.0353,  0.0185]],\n",
            "       grad_fn=<SliceBackward0>) \n",
            "\n",
            "Layer: linear_relu_stack.4.bias | Size: torch.Size([10]) | Values : tensor([-0.0108, -0.0203], grad_fn=<SliceBackward0>) \n",
            "\n"
          ]
        }
      ],
      "execution_count": 26,
      "metadata": {
        "scrolled": true,
        "colab": {
          "base_uri": "https://localhost:8080/"
        },
        "id": "cNF3LVxZF7Il",
        "outputId": "576011ca-82d7-4ce9-f20b-4b9b46a78555"
      }
    },
    {
      "cell_type": "markdown",
      "source": [
        "--------------\n",
        "\n",
        "\n"
      ],
      "metadata": {
        "id": "Qe-ZCxqCF7Im"
      }
    }
  ],
  "metadata": {
    "kernelspec": {
      "display_name": "py38_default",
      "language": "python",
      "name": "conda-env-py38_default-py"
    },
    "language_info": {
      "codemirror_mode": {
        "name": "ipython",
        "version": 3
      },
      "file_extension": ".py",
      "mimetype": "text/x-python",
      "name": "python",
      "nbconvert_exporter": "python",
      "pygments_lexer": "ipython3",
      "version": "3.8.8"
    },
    "nteract": {
      "version": "nteract-front-end@1.0.0"
    },
    "colab": {
      "provenance": [],
      "include_colab_link": true
    }
  },
  "nbformat": 4,
  "nbformat_minor": 0
}